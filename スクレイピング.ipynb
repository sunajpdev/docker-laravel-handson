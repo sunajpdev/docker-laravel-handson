{
  "nbformat": 4,
  "nbformat_minor": 0,
  "metadata": {
    "colab": {
      "name": "スクレイピング",
      "provenance": [],
      "authorship_tag": "ABX9TyMUsby40O2hmrVtLnYLgEji",
      "include_colab_link": true
    },
    "kernelspec": {
      "name": "python3",
      "display_name": "Python 3"
    },
    "language_info": {
      "name": "python"
    }
  },
  "cells": [
    {
      "cell_type": "markdown",
      "metadata": {
        "id": "view-in-github",
        "colab_type": "text"
      },
      "source": [
        "<a href=\"https://colab.research.google.com/github/sunajpdev/docker-laravel-handson/blob/master/%E3%82%B9%E3%82%AF%E3%83%AC%E3%82%A4%E3%83%94%E3%83%B3%E3%82%B0.ipynb\" target=\"_parent\"><img src=\"https://colab.research.google.com/assets/colab-badge.svg\" alt=\"Open In Colab\"/></a>"
      ]
    },
    {
      "cell_type": "markdown",
      "metadata": {
        "id": "sn3tio5d8BHj"
      },
      "source": [
        "# データ取得"
      ]
    },
    {
      "cell_type": "code",
      "metadata": {
        "id": "pCRtd1zD72SJ"
      },
      "source": [
        "import requests\n",
        "from bs4 import BeautifulSoup\n",
        "import smtplib\n",
        "from email.mime.text import MIMEText\n",
        "\n",
        "kawase_url = \"https://www.nikkei.com/markets/kawase/\"\n",
        "\n",
        "my_addr = \"sunajp.dev@gmail.com\"\n",
        "my_pass = \"zgjucbkboqettejh\"\n",
        "\n",
        "# 為替の取得\n",
        "def get_kawase_price():\n",
        "    r = requests.get(kawase_url)\n",
        "    soup = BeautifulSoup(r.content, \"html.parser\")\n",
        "    price_elems = soup.select(\"div.mkc-stock_prices\")\n",
        "    return price_elems[0].getText()\n",
        "\n",
        "# メッセージの作成\n",
        "def create_message(from_addr, to_addr, subject, body_txt):\n",
        "    msg = MIMEText(body_txt)\n",
        "    msg[\"Subject\"] = subject\n",
        "    msg[\"From\"] = from_addr\n",
        "    msg[\"To\"] = to_addr\n",
        "    return msg\n",
        "\n",
        "# メールの送信\n",
        "def send_mail(msg):\n",
        "    with smtplib.SMTP(\"smtp.gmail.com\", 587) as server:\n",
        "        server.ehlo()\n",
        "        server.starttls()\n",
        "        server.ehlo()\n",
        "        server.login(my_addr, my_pass)\n",
        "        server.send_message(msg)\n",
        "\n",
        "def main(event, context):\n",
        "    price = get_kawase_price()\n",
        "    if price:\n",
        "        msg = create_message(my_addr, my_addr, \"ドル円レートお知らせ\", price)\n",
        "        send_mail(msg)"
      ],
      "execution_count": 1,
      "outputs": []
    },
    {
      "cell_type": "code",
      "metadata": {
        "colab": {
          "base_uri": "https://localhost:8080/",
          "height": 35
        },
        "id": "Fguf75iJ8h7d",
        "outputId": "d5cf0b1a-5f70-48ce-a740-eae4da6debea"
      },
      "source": [
        "price = get_kawase_price()\n",
        "price"
      ],
      "execution_count": 4,
      "outputs": [
        {
          "output_type": "execute_result",
          "data": {
            "application/vnd.google.colaboratory.intrinsic+json": {
              "type": "string"
            },
            "text/plain": [
              "'109.72\\xa0-\\xa0109.73'"
            ]
          },
          "metadata": {
            "tags": []
          },
          "execution_count": 4
        }
      ]
    },
    {
      "cell_type": "code",
      "metadata": {
        "id": "yKchZbps8jh5"
      },
      "source": [
        ""
      ],
      "execution_count": null,
      "outputs": []
    }
  ]
}